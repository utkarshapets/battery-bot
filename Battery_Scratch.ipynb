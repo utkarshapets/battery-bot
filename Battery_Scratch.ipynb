{
 "cells": [
  {
   "cell_type": "code",
   "execution_count": null,
   "id": "18bdaafe-0bfb-4fe4-8adc-1ded01f5723f",
   "metadata": {},
   "outputs": [],
   "source": [
    "import pandas as pd\n",
    "import matplotlib.pyplot as plt\n",
    "\n",
    "from solar import REF_SOLAR_DATA\n",
    "from batteryopt import process_pge_meterdata, merge_solar_and_load_data, build_tariff, run_optimization\n",
    "\n",
    "%load_ext autoreload\n",
    "%autoreload 2"
   ]
  },
  {
   "cell_type": "code",
   "execution_count": null,
   "id": "27a2b447-c6f0-45d2-a80a-dfbaa02bf8dc",
   "metadata": {},
   "outputs": [],
   "source": [
    "solar_size_kw = 1.0\n",
    "batt_size_kwh = 13.5\n",
    "csv_file = 'data/pge-e78ff14c-c8c0-11ec-8cc7-0200170a3297-DailyUsageData/pge_electric_usage_interval_data_Service 1_1_2024-02-01_to_2025-01-31.csv'\n",
    "\n",
    "elec_usage = process_pge_meterdata(csv_file)\n",
    "site_data = merge_solar_and_load_data(elec_usage, solar_size_kw * REF_SOLAR_DATA)\n",
    "tariff = build_tariff(site_data.index)\n",
    "battery_dispatch = run_optimization(site_data, tariff, batt_e_max=batt_size_kwh)\n",
    "all_input = pd.concat([site_data, tariff, battery_dispatch], axis=1)\n",
    "\n",
    "final_week = all_input.loc[all_input.index[-1] - pd.DateOffset(days=7):]\n",
    "\n",
    "fig, ax = plt.subplots()\n",
    "final_week.plot(ax=ax)"
   ]
  },
  {
   "cell_type": "code",
   "execution_count": null,
   "id": "d0b3d4fe-f625-4c5f-afc0-e7d298506681",
   "metadata": {},
   "outputs": [],
   "source": [
    "tmp_output = all_input[['load', 'solar', 'px_buy', 'px_sell']]\n",
    "# tmp_output.to_csv('data/tmp_out_full.csv', index=False)\n",
    "# tmp_output.loc[all_input.index[-1] - pd.DateOffset(days=2):].to_csv('data/tmp_out_noindex.csv', index=False)\n"
   ]
  },
  {
   "cell_type": "code",
   "execution_count": 1,
   "id": "29574a1f-dfc9-4f51-857e-da0e65ccc3fb",
   "metadata": {},
   "outputs": [],
   "source": [
    "import math\n",
    "import pandas as pd\n",
    "import pulp as pl\n",
    "\n",
    "def build_and_export_pulp(input_df: pd.DataFrame,\n",
    "                          batt_rt_eff=0.85,\n",
    "                          batt_e_max=13.5,\n",
    "                          batt_p_max=5,\n",
    "                          dt=1.0,\n",
    "                          filename=\"model_pulp.mps\"):\n",
    "    input_df = input_df[['load', 'solar', 'px_buy', 'px_sell']]\n",
    "    T = list(input_df.index)  # time steps\n",
    "    \n",
    "    # Parameters\n",
    "    oneway_eff = math.sqrt(batt_rt_eff)\n",
    "    inv_oneway_eff = 1.0 / oneway_eff\n",
    "    backup_reserve = 0.2\n",
    "    e_min = backup_reserve * batt_e_max\n",
    "    E_0 = e_min\n",
    "\n",
    "    # Problem\n",
    "    prob = pl.LpProblem(\"BatteryGrid\", pl.LpMinimize)\n",
    "\n",
    "    # Variables\n",
    "    P_charge   = pl.LpVariable.dicts(\"P_batt_charge\",   T, lowBound=-batt_p_max, upBound=0)\n",
    "    P_discharge= pl.LpVariable.dicts(\"P_batt_discharge\",T, lowBound=0,        upBound=batt_p_max)\n",
    "    P_buy      = pl.LpVariable.dicts(\"P_grid_buy\",      T, lowBound=0)\n",
    "    P_sell     = pl.LpVariable.dicts(\"P_grid_sell\",     T, lowBound=None,     upBound=0)\n",
    "    E_state    = pl.LpVariable.dicts(\"E\",                list(range(len(T)+1)),\n",
    "                                     lowBound=e_min,     upBound=batt_e_max)\n",
    "\n",
    "    # Objective\n",
    "    prob += pl.lpSum([\n",
    "        P_sell[t] * input_df.loc[t, \"px_sell\"]\n",
    "      + P_buy[t]  * input_df.loc[t, \"px_buy\"]\n",
    "      for t in T\n",
    "    ])\n",
    "\n",
    "    # Constraints\n",
    "    # Initial SOC\n",
    "    prob += E_state[0] == E_0\n",
    "\n",
    "    # Energy dynamics & power balance at each step\n",
    "    for i, t in enumerate(T):\n",
    "        # E[i+1] = E[i] - (charge*eff + discharge/eff)*dt\n",
    "        prob += ( E_state[i+1]\n",
    "                == E_state[i]\n",
    "                   - (P_charge[t] * oneway_eff\n",
    "                      + P_discharge[t] * inv_oneway_eff) * dt )\n",
    "        # Power balance: charge + discharge + buy + sell + net load = 0\n",
    "        prob += ( P_charge[t]\n",
    "                + P_discharge[t]\n",
    "                + P_buy[t]\n",
    "                + P_sell[t]\n",
    "                - input_df.loc[t, \"load\"]\n",
    "                + input_df.loc[t, \"solar\"]\n",
    "                == 0 )\n",
    "\n",
    "    # Export to MPS\n",
    "    prob.writeMPS(filename)\n",
    "    print(f\"Wrote PuLP MPS to {filename}\")"
   ]
  },
  {
   "cell_type": "code",
   "execution_count": 2,
   "id": "dade2762-fd73-48c3-a44c-d702d3d480f0",
   "metadata": {},
   "outputs": [
    {
     "name": "stdout",
     "output_type": "stream",
     "text": [
      "Wrote PuLP MPS to mps_files/tmp_full_noindex.mps\n",
      "Wrote PuLP MPS to mps_files/tmp_half_noindex.mps\n",
      "Wrote PuLP MPS to mps_files/tmp_quarter_noindex.mps\n",
      "Wrote PuLP MPS to mps_files/tmp_fivehundred_rows_noindex.mps\n",
      "Wrote PuLP MPS to mps_files/tmp_onethousand_noindex.mps\n"
     ]
    }
   ],
   "source": [
    "import pathlib\n",
    "\n",
    "data_root = pathlib.Path('data')\n",
    "output_root = pathlib.Path('mps_files')\n",
    "\n",
    "\n",
    "input_fnames = [\n",
    "    'tmp_full_noindex.csv',\n",
    "    'tmp_half_noindex.csv',\n",
    "    'tmp_quarter_noindex.csv',\n",
    "    'tmp_fivehundred_rows_noindex.csv',\n",
    "    'tmp_onethousand_noindex.csv',\n",
    "]\n",
    "\n",
    "for f in input_fnames:\n",
    "    input_f = data_root / f\n",
    "    output_f = output_root / (input_f.stem + '.mps')\n",
    "    input_df = pd.read_csv(input_f)\n",
    "    build_and_export_pulp(input_df, filename=output_f)"
   ]
  },
  {
   "cell_type": "markdown",
   "id": "1c1abb89-0076-47fe-acef-ea2dc55a9648",
   "metadata": {},
   "source": [
    "# Experimental runtimes\n",
    "\n",
    "tmp_full_noindex.mps 0.706\n",
    "tmp_half_noindex.mps 0.390\n",
    "tmp_quarter_noindex.mps 0.276\n",
    "tmp_onethousand_noindex.mps 0.063\n",
    "tmp_fivehundred_rows_noindex.mps 0.026"
   ]
  }
 ],
 "metadata": {
  "kernelspec": {
   "display_name": "Python 3 (ipykernel)",
   "language": "python",
   "name": "python3"
  },
  "language_info": {
   "codemirror_mode": {
    "name": "ipython",
    "version": 3
   },
   "file_extension": ".py",
   "mimetype": "text/x-python",
   "name": "python",
   "nbconvert_exporter": "python",
   "pygments_lexer": "ipython3",
   "version": "3.12.2"
  }
 },
 "nbformat": 4,
 "nbformat_minor": 5
}
